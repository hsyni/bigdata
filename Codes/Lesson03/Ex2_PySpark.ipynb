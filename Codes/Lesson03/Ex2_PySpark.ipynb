{
 "cells": [
  {
   "cell_type": "code",
   "execution_count": 1,
   "id": "62dcc586-eec0-4223-bea3-2236db40ef44",
   "metadata": {},
   "outputs": [
    {
     "ename": "SyntaxError",
     "evalue": "invalid syntax (3061363161.py, line 1)",
     "output_type": "error",
     "traceback": [
      "\u001b[1;36m  File \u001b[1;32m\"C:\\Users\\Huseyin\\AppData\\Local\\Temp\\ipykernel_712\\3061363161.py\"\u001b[1;36m, line \u001b[1;32m1\u001b[0m\n\u001b[1;33m    PYSPARK_HADOOP_VERSION=3.3.5\u001b[0m\n\u001b[1;37m                              ^\u001b[0m\n\u001b[1;31mSyntaxError\u001b[0m\u001b[1;31m:\u001b[0m invalid syntax\n"
     ]
    }
   ],
   "source": [
    "PYSPARK_HADOOP_VERSION=3.3.5"
   ]
  },
  {
   "cell_type": "code",
   "execution_count": null,
   "id": "b1b6abff-c9f4-47b9-a47f-0421bc5888f5",
   "metadata": {},
   "outputs": [],
   "source": [
    "pip install pyspark"
   ]
  },
  {
   "cell_type": "code",
   "execution_count": null,
   "id": "770cbba1-58e9-4034-a79a-9ff1135c2ab2",
   "metadata": {},
   "outputs": [],
   "source": [
    "pip install git+https://github.com/mlflow/mlflow@master"
   ]
  },
  {
   "cell_type": "code",
   "execution_count": null,
   "id": "9b58a489-c31b-4e43-8c2c-f06ba06477d9",
   "metadata": {},
   "outputs": [],
   "source": [
    "import pyspark\n",
    "from pyspark.sql import SparkSession"
   ]
  },
  {
   "cell_type": "code",
   "execution_count": null,
   "id": "f6c74e46-8e94-423a-b3be-1710b5ade522",
   "metadata": {},
   "outputs": [],
   "source": [
    "spark = SparkSession.builder.master(\"local\").appName(\"SparkByExamples.com\").getOrCreate()"
   ]
  },
  {
   "cell_type": "code",
   "execution_count": null,
   "id": "6ec9450d-0a15-4c08-a111-ebb45157bc82",
   "metadata": {},
   "outputs": [],
   "source": [
    "df = spark.read.csv('C:/Users/Huseyin/Desktop/YuksekLisans/OstimTeknik/CENG544-BigDataAnalysis/data/test.csv', header=True)"
   ]
  },
  {
   "cell_type": "code",
   "execution_count": null,
   "id": "3a113dcb-ab18-41fa-b235-5438dcdda5d3",
   "metadata": {},
   "outputs": [],
   "source": [
    "df.show()"
   ]
  },
  {
   "cell_type": "code",
   "execution_count": null,
   "id": "d300c95b-9cbc-40a5-97e0-f41a672c6829",
   "metadata": {},
   "outputs": [],
   "source": [
    "collect_df = df.collect()\n",
    "collect_df"
   ]
  },
  {
   "cell_type": "code",
   "execution_count": null,
   "id": "2a3919a2-318e-4f99-84fa-efed0ff56662",
   "metadata": {},
   "outputs": [],
   "source": [
    "collect_df.append({\"firstName\" : \"Huseyin\", \"lastName\" : \"Demir\", \"email\" : \"test@mail.com\", \"phoneNumber\" : \"5465515151\"})\n",
    "collect_df"
   ]
  },
  {
   "cell_type": "code",
   "execution_count": null,
   "id": "701f0a4a-da07-47dd-ad8f-01e43270e9ed",
   "metadata": {},
   "outputs": [],
   "source": [
    "df.write.csv('data/new_test', header=True)"
   ]
  },
  {
   "cell_type": "code",
   "execution_count": null,
   "id": "99096941-5ebe-4d02-acd8-ccb610c09b52",
   "metadata": {},
   "outputs": [],
   "source": []
  }
 ],
 "metadata": {
  "kernelspec": {
   "display_name": "Python 3 (ipykernel)",
   "language": "python",
   "name": "python3"
  },
  "language_info": {
   "codemirror_mode": {
    "name": "ipython",
    "version": 3
   },
   "file_extension": ".py",
   "mimetype": "text/x-python",
   "name": "python",
   "nbconvert_exporter": "python",
   "pygments_lexer": "ipython3",
   "version": "3.9.13"
  }
 },
 "nbformat": 4,
 "nbformat_minor": 5
}
