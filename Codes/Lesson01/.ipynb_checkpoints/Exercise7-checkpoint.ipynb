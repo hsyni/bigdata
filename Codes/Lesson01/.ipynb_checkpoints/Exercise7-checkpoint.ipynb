{
 "cells": [
  {
   "cell_type": "code",
   "execution_count": 1,
   "id": "a4f3446b-3ff6-499d-94c3-fa013cbe56b7",
   "metadata": {},
   "outputs": [],
   "source": [
    "import numpy as np\n",
    "import pandas as pd"
   ]
  },
  {
   "cell_type": "code",
   "execution_count": 2,
   "id": "39fd6f00-1e0c-4cb4-8703-635b5525e95d",
   "metadata": {},
   "outputs": [],
   "source": [
    "url = \"https://raw.githubusercontent.com/TrainingByPackt/Big-Data-Analysis-with-Python/master/Lesson01/RadNet_Laboratory_Analysis.csv\"\n",
    "df = pd.read_csv(url)"
   ]
  },
  {
   "cell_type": "code",
   "execution_count": 6,
   "id": "c4407db7-2c04-413a-8c2a-04d9dba451ff",
   "metadata": {},
   "outputs": [
    {
     "data": {
      "text/plain": [
       "['Co-60',\n",
       " 'Cs-137',\n",
       " 'Cs-136',\n",
       " 'Te-129m',\n",
       " 'Ba-140.1',\n",
       " 'Ba-140',\n",
       " 'I-132',\n",
       " 'Cs-134',\n",
       " 'I-131',\n",
       " 'Te-132',\n",
       " 'Te-129',\n",
       " 'I-133']"
      ]
     },
     "execution_count": 6,
     "metadata": {},
     "output_type": "execute_result"
    }
   ],
   "source": [
    "columns = df.columns\n",
    "id_cols = ['State', 'Location', \"Date Posted\", 'Date Collected', 'Sample Type', 'Unit']\n",
    "columns = list(set(columns) - set(id_cols))\n",
    "columns"
   ]
  },
  {
   "cell_type": "code",
   "execution_count": 7,
   "id": "4bb3d3f8-a6a5-4eb7-816c-aba71549c75e",
   "metadata": {},
   "outputs": [],
   "source": [
    "df['Cs-134'] = df['Cs-134'].apply(lambda x: np.nan if x == \"Non-detect\" else x)\n",
    "df.loc[:, columns] = df.loc[:, columns].applymap(lambda x: np.nan if x == 'Non-detect' else x)\n",
    "df.loc[:, columns] = df.loc[:, columns].applymap(lambda x: np.nan if x == 'ND' else x)"
   ]
  },
  {
   "cell_type": "code",
   "execution_count": 8,
   "id": "011df5b5-ca41-4fd4-8dfa-49679a538965",
   "metadata": {},
   "outputs": [],
   "source": [
    "df.loc[:, ['State', 'Location', 'Sample Type', 'Unit']] = df.loc[:, ['State', 'Location', 'Sample Type', 'Unit']].applymap(lambda x: x.strip())"
   ]
  },
  {
   "cell_type": "code",
   "execution_count": 11,
   "id": "829515c5-0ecf-4a1e-bfa7-612e85af9be6",
   "metadata": {},
   "outputs": [],
   "source": [
    "df['Date Posted'] = pd.to_datetime(df['Date Posted'])\n",
    "df['Date Collected'] = pd.to_datetime(df['Date Collected'])"
   ]
  },
  {
   "cell_type": "code",
   "execution_count": 12,
   "id": "986ce0e6-ae91-4583-976a-c391e05c5477",
   "metadata": {},
   "outputs": [],
   "source": [
    "for col in columns:\n",
    "    df[col] = pd.to_numeric(df[col])"
   ]
  },
  {
   "cell_type": "code",
   "execution_count": 13,
   "id": "0a0bb533-5d54-4c54-b6ae-d1b114346ef0",
   "metadata": {},
   "outputs": [],
   "source": [
    "df['State'] = df['State'].astype('category')\n",
    "df['Location'] = df['Location'].astype('category')\n",
    "df['Unit'] = df['Unit'].astype('category')\n",
    "df['Sample Type'] = df['Sample Type'].astype('category')"
   ]
  },
  {
   "cell_type": "code",
   "execution_count": 14,
   "id": "44b7e395-974a-408f-96e5-f31b81394d06",
   "metadata": {},
   "outputs": [],
   "source": [
    "df.to_csv('radiation_clean.csv', index=False, sep=';', encoding='utf-8')"
   ]
  },
  {
   "cell_type": "code",
   "execution_count": 15,
   "id": "5b631c8d-832c-4bb5-9b6e-4db267794943",
   "metadata": {},
   "outputs": [],
   "source": [
    "df.to_parquet('radiation_clean.prq', index=False)"
   ]
  }
 ],
 "metadata": {
  "kernelspec": {
   "display_name": "Python 3 (ipykernel)",
   "language": "python",
   "name": "python3"
  },
  "language_info": {
   "codemirror_mode": {
    "name": "ipython",
    "version": 3
   },
   "file_extension": ".py",
   "mimetype": "text/x-python",
   "name": "python",
   "nbconvert_exporter": "python",
   "pygments_lexer": "ipython3",
   "version": "3.9.13"
  }
 },
 "nbformat": 4,
 "nbformat_minor": 5
}
