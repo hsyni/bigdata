{
 "cells": [
  {
   "cell_type": "code",
   "execution_count": 1,
   "id": "90234956-58e0-4dc8-afa9-ca244629a6c4",
   "metadata": {},
   "outputs": [],
   "source": [
    "import numpy as np\n",
    "import pandas as pd\n",
    "import matplotlib.pyplot as plt\n",
    "import seaborn as sns"
   ]
  },
  {
   "cell_type": "code",
   "execution_count": 2,
   "id": "0571c8bf-099d-4079-bef0-099c33004773",
   "metadata": {},
   "outputs": [],
   "source": [
    "url = \"https://raw.githubusercontent.com/TrainingByPackt/Big-Data-Analysis-with-Python/master/Lesson01/RadNet_Laboratory_Analysis.csv\"\n",
    "df = pd.read_csv(url)"
   ]
  },
  {
   "cell_type": "code",
   "execution_count": 3,
   "id": "932bf461-dbdb-4463-ac1f-bb353a383f07",
   "metadata": {},
   "outputs": [
    {
     "data": {
      "text/plain": [
       "State              object\n",
       "Location           object\n",
       "Date Posted        object\n",
       "Date Collected     object\n",
       "Sample Type        object\n",
       "Unit               object\n",
       "Ba-140            float64\n",
       "Co-60             float64\n",
       "Cs-134              int64\n",
       "Cs-136            float64\n",
       "Cs-137              int64\n",
       "I-131               int64\n",
       "I-132               int64\n",
       "I-133             float64\n",
       "Te-129            float64\n",
       "Te-129m           float64\n",
       "Te-132              int64\n",
       "Ba-140.1          float64\n",
       "dtype: object"
      ]
     },
     "execution_count": 3,
     "metadata": {},
     "output_type": "execute_result"
    }
   ],
   "source": [
    "df.dtypes"
   ]
  },
  {
   "cell_type": "code",
   "execution_count": 4,
   "id": "54080cfe-624d-451b-a299-73877e84b35a",
   "metadata": {},
   "outputs": [],
   "source": [
    "df['Date Posted'] = pd.to_datetime(df['Date Posted'])\n",
    "df['Date Collected'] = pd.to_datetime(df['Date Collected'])"
   ]
  },
  {
   "cell_type": "code",
   "execution_count": 5,
   "id": "99c57456-8f69-4e75-9457-ce21cdec9cf0",
   "metadata": {},
   "outputs": [
    {
     "data": {
      "text/plain": [
       "['I-132',\n",
       " 'Te-129',\n",
       " 'Ba-140.1',\n",
       " 'I-133',\n",
       " 'Te-132',\n",
       " 'I-131',\n",
       " 'Cs-137',\n",
       " 'Cs-136',\n",
       " 'Ba-140',\n",
       " 'Cs-134',\n",
       " 'Co-60',\n",
       " 'Te-129m']"
      ]
     },
     "execution_count": 5,
     "metadata": {},
     "output_type": "execute_result"
    }
   ],
   "source": [
    "columns = df.columns\n",
    "id_cols = ['State', 'Location', \"Date Posted\", 'Date Collected', 'Sample Type', 'Unit']\n",
    "columns = list(set(columns) - set(id_cols))\n",
    "columns"
   ]
  },
  {
   "cell_type": "code",
   "execution_count": 6,
   "id": "c3f7baf5-aca8-45c7-96d2-bacfee126394",
   "metadata": {},
   "outputs": [
    {
     "data": {
      "text/plain": [
       "0      0\n",
       "1      0\n",
       "2      0\n",
       "3      0\n",
       "4      0\n",
       "      ..\n",
       "601    9\n",
       "602    7\n",
       "603    0\n",
       "604    0\n",
       "605    0\n",
       "Name: Cs-134, Length: 606, dtype: int64"
      ]
     },
     "execution_count": 6,
     "metadata": {},
     "output_type": "execute_result"
    }
   ],
   "source": [
    "df['Cs-134']"
   ]
  },
  {
   "cell_type": "code",
   "execution_count": 7,
   "id": "d5c8f3f3-3298-424e-acc1-716c519e4bf4",
   "metadata": {},
   "outputs": [],
   "source": [
    "df['Cs-134'] = df['Cs-134'].apply(lambda x: np.nan if x == 'Non-detect' else x)\n",
    "df.loc[:, columns] = df.loc[:, columns].applymap(lambda x: np.nan if x == 'Non-detect' else x)\n",
    "df.loc[:, columns] = df.loc[:, columns].applymap(lambda x: np.nan if x == 'ND' else x)"
   ]
  },
  {
   "cell_type": "code",
   "execution_count": 11,
   "id": "d188f71f-f54a-49f7-8bec-24f77bcc8472",
   "metadata": {},
   "outputs": [],
   "source": [
    "for col in columns:\n",
    "    df[col] = pd.to_numeric(df[col])"
   ]
  },
  {
   "cell_type": "code",
   "execution_count": 12,
   "id": "f5839b88-b74e-442f-8ae7-c8cc2ca4c74d",
   "metadata": {},
   "outputs": [
    {
     "data": {
      "text/plain": [
       "State                     object\n",
       "Location                  object\n",
       "Date Posted       datetime64[ns]\n",
       "Date Collected    datetime64[ns]\n",
       "Sample Type               object\n",
       "Unit                      object\n",
       "Ba-140                   float64\n",
       "Co-60                    float64\n",
       "Cs-134                     int64\n",
       "Cs-136                   float64\n",
       "Cs-137                     int64\n",
       "I-131                      int64\n",
       "I-132                      int64\n",
       "I-133                    float64\n",
       "Te-129                   float64\n",
       "Te-129m                  float64\n",
       "Te-132                     int64\n",
       "Ba-140.1                 float64\n",
       "dtype: object"
      ]
     },
     "execution_count": 12,
     "metadata": {},
     "output_type": "execute_result"
    }
   ],
   "source": [
    "df.dtypes"
   ]
  },
  {
   "cell_type": "code",
   "execution_count": 13,
   "id": "e65afa64-0c35-474e-952a-375d9da50856",
   "metadata": {},
   "outputs": [],
   "source": [
    "df['State'] = df['State'].astype('category')\n",
    "df['Location'] = df['Location'].astype('category')\n",
    "df['Unit'] = df['Unit'].astype('category')\n",
    "df['Sample Type'] = df['Sample Type'].astype('category')"
   ]
  },
  {
   "cell_type": "code",
   "execution_count": 14,
   "id": "1326c7a9-c8fb-49a9-af2e-7fa56589e0c6",
   "metadata": {},
   "outputs": [
    {
     "data": {
      "text/plain": [
       "State                   category\n",
       "Location                category\n",
       "Date Posted       datetime64[ns]\n",
       "Date Collected    datetime64[ns]\n",
       "Sample Type             category\n",
       "Unit                    category\n",
       "Ba-140                   float64\n",
       "Co-60                    float64\n",
       "Cs-134                     int64\n",
       "Cs-136                   float64\n",
       "Cs-137                     int64\n",
       "I-131                      int64\n",
       "I-132                      int64\n",
       "I-133                    float64\n",
       "Te-129                   float64\n",
       "Te-129m                  float64\n",
       "Te-132                     int64\n",
       "Ba-140.1                 float64\n",
       "dtype: object"
      ]
     },
     "execution_count": 14,
     "metadata": {},
     "output_type": "execute_result"
    }
   ],
   "source": [
    "df.dtypes"
   ]
  }
 ],
 "metadata": {
  "kernelspec": {
   "display_name": "Python 3 (ipykernel)",
   "language": "python",
   "name": "python3"
  },
  "language_info": {
   "codemirror_mode": {
    "name": "ipython",
    "version": 3
   },
   "file_extension": ".py",
   "mimetype": "text/x-python",
   "name": "python",
   "nbconvert_exporter": "python",
   "pygments_lexer": "ipython3",
   "version": "3.9.13"
  }
 },
 "nbformat": 4,
 "nbformat_minor": 5
}
