{
 "cells": [
  {
   "cell_type": "code",
   "execution_count": 1,
   "id": "3b358606-3ad0-4ce2-bf93-85260fcfd6c7",
   "metadata": {},
   "outputs": [
    {
     "name": "stdout",
     "output_type": "stream",
     "text": [
      "4\n"
     ]
    }
   ],
   "source": [
    "x = 2\n",
    "print(x*2)"
   ]
  },
  {
   "cell_type": "code",
   "execution_count": 2,
   "id": "fa92e4f7-544f-4da7-8b83-f1e54c0674ca",
   "metadata": {},
   "outputs": [],
   "source": [
    "def mean(a,b):\n",
    "    return (a+b)/2"
   ]
  },
  {
   "cell_type": "code",
   "execution_count": 3,
   "id": "0af4f905-2614-4c96-a0c9-2d6492b14c77",
   "metadata": {},
   "outputs": [
    {
     "data": {
      "text/plain": [
       "15.0"
      ]
     },
     "execution_count": 3,
     "metadata": {},
     "output_type": "execute_result"
    }
   ],
   "source": [
    "mean(10,20)"
   ]
  },
  {
   "cell_type": "code",
   "execution_count": null,
   "id": "99616805-6bc1-4f0f-972d-846d6741fd87",
   "metadata": {},
   "outputs": [],
   "source": []
  }
 ],
 "metadata": {
  "kernelspec": {
   "display_name": "Python 3 (ipykernel)",
   "language": "python",
   "name": "python3"
  },
  "language_info": {
   "codemirror_mode": {
    "name": "ipython",
    "version": 3
   },
   "file_extension": ".py",
   "mimetype": "text/x-python",
   "name": "python",
   "nbconvert_exporter": "python",
   "pygments_lexer": "ipython3",
   "version": "3.9.13"
  }
 },
 "nbformat": 4,
 "nbformat_minor": 5
}
