{
 "cells": [
  {
   "cell_type": "code",
   "execution_count": 2,
   "id": "d69bf2f2-6c9c-4f66-ab96-7bb0e0a6ca2b",
   "metadata": {},
   "outputs": [
    {
     "name": "stdout",
     "output_type": "stream",
     "text": [
      "Collecting pyarrow\n",
      "  Downloading pyarrow-11.0.0-cp39-cp39-win_amd64.whl (20.6 MB)\n",
      "     ---------------------------------------- 20.6/20.6 MB 3.0 MB/s eta 0:00:00\n",
      "Requirement already satisfied: numpy>=1.16.6 in c:\\users\\huseyin\\anaconda3\\lib\\site-packages (from pyarrow) (1.21.5)\n",
      "Installing collected packages: pyarrow\n",
      "Successfully installed pyarrow-11.0.0\n",
      "Note: you may need to restart the kernel to use updated packages.\n"
     ]
    }
   ],
   "source": [
    "pip install pyarrow"
   ]
  },
  {
   "cell_type": "code",
   "execution_count": 1,
   "id": "a3695aa7-1812-4c29-82e6-0e6165bd0d23",
   "metadata": {},
   "outputs": [],
   "source": [
    "import numpy as np"
   ]
  },
  {
   "cell_type": "code",
   "execution_count": 3,
   "id": "f04a0606-26aa-4196-a770-e4f87290a8e3",
   "metadata": {},
   "outputs": [
    {
     "name": "stdout",
     "output_type": "stream",
     "text": [
      "[78 65 97 78 32]\n"
     ]
    }
   ],
   "source": [
    "vec = np.random.randint(0, 100, size = 5)\n",
    "print(vec)"
   ]
  },
  {
   "cell_type": "code",
   "execution_count": 8,
   "id": "de8335a2-0db5-45b6-9abc-08b6af029262",
   "metadata": {},
   "outputs": [
    {
     "name": "stdout",
     "output_type": "stream",
     "text": [
      "[32 65 78 78 97]\n"
     ]
    }
   ],
   "source": [
    "for j in np.arange(1, vec.size):\n",
    "    v = vec[j]\n",
    "    i = j\n",
    "    while i > 0 and vec[i-1] > v:\n",
    "        vec[i] = vec[i-1]\n",
    "        i = i - 1\n",
    "    vec[i] = v\n",
    "    \n",
    "print(vec)"
   ]
  },
  {
   "cell_type": "code",
   "execution_count": 10,
   "id": "c4c540c9-da15-4597-b999-ca233bbee49d",
   "metadata": {},
   "outputs": [
    {
     "name": "stdout",
     "output_type": "stream",
     "text": [
      "5\n"
     ]
    }
   ],
   "source": [
    "print(vec.size)"
   ]
  },
  {
   "cell_type": "code",
   "execution_count": 13,
   "id": "6da87be9-5fb8-4a14-9a27-5f537d4103fe",
   "metadata": {
    "tags": []
   },
   "outputs": [
    {
     "name": "stdout",
     "output_type": "stream",
     "text": [
      "[ 8 70 66 57 43 93 33 11 13 15 93 21 27 95 42 11 83 83 33 66]\n"
     ]
    }
   ],
   "source": [
    "vec2 = np.random.randint(0, 100, size = 20)\n",
    "print(vec2)"
   ]
  },
  {
   "cell_type": "code",
   "execution_count": 14,
   "id": "229bc9bb-f510-418b-a2c8-86588cf71da7",
   "metadata": {},
   "outputs": [
    {
     "name": "stdout",
     "output_type": "stream",
     "text": [
      "[ 8 11 11 13 15 21 27 33 33 42 43 57 66 66 70 83 83 93 93 95]\n"
     ]
    }
   ],
   "source": [
    "for j in np.arange(1, vec2.size):\n",
    "    v = vec2[j]\n",
    "    i = j\n",
    "    while i > 0 and vec2[i-1] > v:\n",
    "        vec2[i] = vec2[i-1]\n",
    "        i = i - 1\n",
    "    vec2[i] = v\n",
    "    \n",
    "print(vec2)"
   ]
  },
  {
   "cell_type": "code",
   "execution_count": null,
   "id": "b7a69cf8-9323-4d30-b7d3-d7d75cfd99df",
   "metadata": {},
   "outputs": [],
   "source": []
  }
 ],
 "metadata": {
  "kernelspec": {
   "display_name": "Python 3 (ipykernel)",
   "language": "python",
   "name": "python3"
  },
  "language_info": {
   "codemirror_mode": {
    "name": "ipython",
    "version": 3
   },
   "file_extension": ".py",
   "mimetype": "text/x-python",
   "name": "python",
   "nbconvert_exporter": "python",
   "pygments_lexer": "ipython3",
   "version": "3.9.13"
  }
 },
 "nbformat": 4,
 "nbformat_minor": 5
}
